{
  "nbformat": 4,
  "nbformat_minor": 0,
  "metadata": {
    "colab": {
      "provenance": [],
      "mount_file_id": "1bpRQAl8NI9M1kn8tf_qj13OjlcytA-u3",
      "authorship_tag": "ABX9TyOKC6G68qm5XgV7uX7tK5+d",
      "include_colab_link": true
    },
    "kernelspec": {
      "name": "python3",
      "display_name": "Python 3"
    },
    "language_info": {
      "name": "python"
    }
  },
  "cells": [
    {
      "cell_type": "markdown",
      "metadata": {
        "id": "view-in-github",
        "colab_type": "text"
      },
      "source": [
        "<a href=\"https://colab.research.google.com/github/WalterDevj/py/blob/main/Aprendendo_Python.ipynb\" target=\"_parent\"><img src=\"https://colab.research.google.com/assets/colab-badge.svg\" alt=\"Open In Colab\"/></a>"
      ]
    },
    {
      "cell_type": "markdown",
      "source": [
        "**Projeto python com base de dados**"
      ],
      "metadata": {
        "id": "eisvDp_SWCTy"
      }
    },
    {
      "cell_type": "code",
      "execution_count": null,
      "metadata": {
        "id": "nlRkV7ssThJa"
      },
      "outputs": [],
      "source": [
        "# Lógica de programação\n",
        "\n",
        "# Passo 1 - Usar o Python pra percorrer a pasta \"vendas\"\n",
        "\n",
        "import os #Importa a biblioteca \"os\" do Python\n",
        "import pandas as pd #importa a biblioteca \"pandas\" do python, associado como \"pd\"\n",
        "\n",
        "lista_arquivo = os.listdir(\"/content/drive/MyDrive/Aula python/Vendas\")\n",
        "#Cria a variável \"lista_arquivos\" e lista dentro do diretório os arquivos de \"()\" dentro de \"os\"\n",
        "display (lista_arquivo) #Exibe os dados da variável \"Lista_arquivo\"\n"
      ]
    },
    {
      "cell_type": "code",
      "source": [
        "# Passo 2 - Importar bases de vendas\n",
        "\n",
        "tabela_total = pd.DataFrame() #criou uma tabela vazia\n",
        "\n",
        "for arquivos in lista_arquivo:\n",
        "  if \"Vendas\" in arquivos: #Se \"Vendas\" estiver dentro arquivo, vai ser printado\n",
        "  #importar arquivos\n",
        "    tabela = pd.read_csv(f\"/content/drive/MyDrive/Aula python/Vendas/{arquivos}\") #Importa a tabela de \"Vendas\"\n",
        "\n",
        "# Passo 3 - Compilar as bases de dados\n",
        "\n",
        "  tabela_total = tabela_total.append(tabela) #Adiciona a tabela dentro da tabela_total\n",
        "display(tabela_total)"
      ],
      "metadata": {
        "id": "wbWPK8-wgWQq"
      },
      "execution_count": null,
      "outputs": []
    },
    {
      "cell_type": "code",
      "source": [
        "# Passo 4 - Calcular produto mais vendido em quantidades\n",
        "\n",
        "tabela_produtos = tabela_total.groupby('Produto').sum() #Cria a tabela produtos, e agrupa os produtos da tabela total somando seus valores\n",
        "tabela_produtos = tabela_produtos[[\"Quantidade Vendida\"]].sort_values(by=\"Quantidade Vendida\", ascending=False) #\"Puxa\" apenas a quantidade vendida dos produtos da tabela classificando de maneira decrescente\n",
        "display (tabela_produtos)\n"
      ],
      "metadata": {
        "id": "KsKGm4S1q_Ou"
      },
      "execution_count": null,
      "outputs": []
    },
    {
      "cell_type": "code",
      "source": [
        "# Passo 5 - Calcular o produto que mais faturou\n",
        "tabela_total['Faturamento'] = tabela_total['Quantidade Vendida'] * tabela_total['Preco Unitario'] #Cria a tabela faturamento multiplicando a \"quantidade vendida\" pelo \"preco unitario\"\n",
        "\n",
        "tabela_faturamento = tabela_total.groupby('Produto').sum()\n",
        "tabela_faturamento = tabela_faturamento[[\"Faturamento\"]].sort_values(by=\"Faturamento\", ascending=False)\n",
        "display (tabela_faturamento)\n",
        "\n"
      ],
      "metadata": {
        "id": "0B_W1-FGrGCL"
      },
      "execution_count": null,
      "outputs": []
    },
    {
      "cell_type": "code",
      "source": [
        "# Passo 6 - Calcular Loja que mais faturou\n",
        "\n",
        "tabela_lojas = tabela_total.groupby('Loja').sum()\n",
        "tabela_lojas = tabela_lojas[['Faturamento']].sort_values(by='Faturamento', ascending=False) #Cria uma tabela com o faturamento das lojas organizando de maneira decrescente qual mais faturou\n",
        "display(tabela_lojas)"
      ],
      "metadata": {
        "id": "IGabxspklOf8"
      },
      "execution_count": null,
      "outputs": []
    },
    {
      "cell_type": "code",
      "source": [
        "#Passo 7 - Criação de gráfico\n",
        "\n",
        "import plotly.express as px #importa a biblioteca \"plotly\" no formato \"express\", associado como px\n",
        "\n",
        "grafico = px.bar(tabela_lojas, x=tabela_lojas.index, y='Faturamento') #Cria um gráfico, já como um indash board, de barras com base na tabela lojas\n",
        "grafico.show()"
      ],
      "metadata": {
        "id": "OiTJikiCx2Dp"
      },
      "execution_count": null,
      "outputs": []
    }
  ]
}
